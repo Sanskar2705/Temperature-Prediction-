{
 "cells": [
  {
   "cell_type": "code",
   "execution_count": 1,
   "id": "eb1d4bae",
   "metadata": {},
   "outputs": [],
   "source": [
    "import pandas as pd\n",
    "import numpy as np"
   ]
  },
  {
   "cell_type": "code",
   "execution_count": 3,
   "id": "55093960",
   "metadata": {},
   "outputs": [],
   "source": [
    "weather = pd.read_csv('C:/Users/91798/Forcast/Lucknow_1990_2022.csv', index_col= 'time')"
   ]
  },
  {
   "cell_type": "code",
   "execution_count": 4,
   "id": "29bb80ce",
   "metadata": {},
   "outputs": [
    {
     "data": {
      "text/html": [
       "<div>\n",
       "<style scoped>\n",
       "    .dataframe tbody tr th:only-of-type {\n",
       "        vertical-align: middle;\n",
       "    }\n",
       "\n",
       "    .dataframe tbody tr th {\n",
       "        vertical-align: top;\n",
       "    }\n",
       "\n",
       "    .dataframe thead th {\n",
       "        text-align: right;\n",
       "    }\n",
       "</style>\n",
       "<table border=\"1\" class=\"dataframe\">\n",
       "  <thead>\n",
       "    <tr style=\"text-align: right;\">\n",
       "      <th></th>\n",
       "      <th>tavg</th>\n",
       "      <th>tmin</th>\n",
       "      <th>tmax</th>\n",
       "      <th>prcp</th>\n",
       "    </tr>\n",
       "    <tr>\n",
       "      <th>time</th>\n",
       "      <th></th>\n",
       "      <th></th>\n",
       "      <th></th>\n",
       "      <th></th>\n",
       "    </tr>\n",
       "  </thead>\n",
       "  <tbody>\n",
       "    <tr>\n",
       "      <th>01-01-1990</th>\n",
       "      <td>7.2</td>\n",
       "      <td>NaN</td>\n",
       "      <td>18.1</td>\n",
       "      <td>0.0</td>\n",
       "    </tr>\n",
       "    <tr>\n",
       "      <th>02-01-1990</th>\n",
       "      <td>10.5</td>\n",
       "      <td>NaN</td>\n",
       "      <td>17.2</td>\n",
       "      <td>0.0</td>\n",
       "    </tr>\n",
       "    <tr>\n",
       "      <th>03-01-1990</th>\n",
       "      <td>10.2</td>\n",
       "      <td>1.8</td>\n",
       "      <td>18.6</td>\n",
       "      <td>NaN</td>\n",
       "    </tr>\n",
       "    <tr>\n",
       "      <th>04-01-1990</th>\n",
       "      <td>9.1</td>\n",
       "      <td>NaN</td>\n",
       "      <td>19.3</td>\n",
       "      <td>0.0</td>\n",
       "    </tr>\n",
       "    <tr>\n",
       "      <th>05-01-1990</th>\n",
       "      <td>13.5</td>\n",
       "      <td>NaN</td>\n",
       "      <td>23.8</td>\n",
       "      <td>0.0</td>\n",
       "    </tr>\n",
       "    <tr>\n",
       "      <th>...</th>\n",
       "      <td>...</td>\n",
       "      <td>...</td>\n",
       "      <td>...</td>\n",
       "      <td>...</td>\n",
       "    </tr>\n",
       "    <tr>\n",
       "      <th>21-07-2022</th>\n",
       "      <td>27.4</td>\n",
       "      <td>25.1</td>\n",
       "      <td>33.1</td>\n",
       "      <td>27.3</td>\n",
       "    </tr>\n",
       "    <tr>\n",
       "      <th>22-07-2022</th>\n",
       "      <td>28.1</td>\n",
       "      <td>26.1</td>\n",
       "      <td>31.1</td>\n",
       "      <td>16.0</td>\n",
       "    </tr>\n",
       "    <tr>\n",
       "      <th>23-07-2022</th>\n",
       "      <td>30.3</td>\n",
       "      <td>26.2</td>\n",
       "      <td>34.7</td>\n",
       "      <td>11.9</td>\n",
       "    </tr>\n",
       "    <tr>\n",
       "      <th>24-07-2022</th>\n",
       "      <td>30.0</td>\n",
       "      <td>28.1</td>\n",
       "      <td>34.7</td>\n",
       "      <td>2.0</td>\n",
       "    </tr>\n",
       "    <tr>\n",
       "      <th>25-07-2022</th>\n",
       "      <td>27.1</td>\n",
       "      <td>24.1</td>\n",
       "      <td>34.3</td>\n",
       "      <td>0.5</td>\n",
       "    </tr>\n",
       "  </tbody>\n",
       "</table>\n",
       "<p>11894 rows × 4 columns</p>\n",
       "</div>"
      ],
      "text/plain": [
       "            tavg  tmin  tmax  prcp\n",
       "time                              \n",
       "01-01-1990   7.2   NaN  18.1   0.0\n",
       "02-01-1990  10.5   NaN  17.2   0.0\n",
       "03-01-1990  10.2   1.8  18.6   NaN\n",
       "04-01-1990   9.1   NaN  19.3   0.0\n",
       "05-01-1990  13.5   NaN  23.8   0.0\n",
       "...          ...   ...   ...   ...\n",
       "21-07-2022  27.4  25.1  33.1  27.3\n",
       "22-07-2022  28.1  26.1  31.1  16.0\n",
       "23-07-2022  30.3  26.2  34.7  11.9\n",
       "24-07-2022  30.0  28.1  34.7   2.0\n",
       "25-07-2022  27.1  24.1  34.3   0.5\n",
       "\n",
       "[11894 rows x 4 columns]"
      ]
     },
     "execution_count": 4,
     "metadata": {},
     "output_type": "execute_result"
    }
   ],
   "source": [
    "weather"
   ]
  },
  {
   "cell_type": "code",
   "execution_count": 5,
   "id": "f71faa43",
   "metadata": {},
   "outputs": [],
   "source": [
    "weather.columns= [ 'Avg_temp', 'Min_temp', 'Max_temp', 'Precip']"
   ]
  },
  {
   "cell_type": "code",
   "execution_count": 6,
   "id": "9af047d8",
   "metadata": {},
   "outputs": [
    {
     "data": {
      "text/html": [
       "<div>\n",
       "<style scoped>\n",
       "    .dataframe tbody tr th:only-of-type {\n",
       "        vertical-align: middle;\n",
       "    }\n",
       "\n",
       "    .dataframe tbody tr th {\n",
       "        vertical-align: top;\n",
       "    }\n",
       "\n",
       "    .dataframe thead th {\n",
       "        text-align: right;\n",
       "    }\n",
       "</style>\n",
       "<table border=\"1\" class=\"dataframe\">\n",
       "  <thead>\n",
       "    <tr style=\"text-align: right;\">\n",
       "      <th></th>\n",
       "      <th>Avg_temp</th>\n",
       "      <th>Min_temp</th>\n",
       "      <th>Max_temp</th>\n",
       "      <th>Precip</th>\n",
       "    </tr>\n",
       "    <tr>\n",
       "      <th>time</th>\n",
       "      <th></th>\n",
       "      <th></th>\n",
       "      <th></th>\n",
       "      <th></th>\n",
       "    </tr>\n",
       "  </thead>\n",
       "  <tbody>\n",
       "    <tr>\n",
       "      <th>01-01-1990</th>\n",
       "      <td>7.2</td>\n",
       "      <td>NaN</td>\n",
       "      <td>18.1</td>\n",
       "      <td>0.0</td>\n",
       "    </tr>\n",
       "    <tr>\n",
       "      <th>02-01-1990</th>\n",
       "      <td>10.5</td>\n",
       "      <td>NaN</td>\n",
       "      <td>17.2</td>\n",
       "      <td>0.0</td>\n",
       "    </tr>\n",
       "    <tr>\n",
       "      <th>03-01-1990</th>\n",
       "      <td>10.2</td>\n",
       "      <td>1.8</td>\n",
       "      <td>18.6</td>\n",
       "      <td>NaN</td>\n",
       "    </tr>\n",
       "    <tr>\n",
       "      <th>04-01-1990</th>\n",
       "      <td>9.1</td>\n",
       "      <td>NaN</td>\n",
       "      <td>19.3</td>\n",
       "      <td>0.0</td>\n",
       "    </tr>\n",
       "    <tr>\n",
       "      <th>05-01-1990</th>\n",
       "      <td>13.5</td>\n",
       "      <td>NaN</td>\n",
       "      <td>23.8</td>\n",
       "      <td>0.0</td>\n",
       "    </tr>\n",
       "    <tr>\n",
       "      <th>...</th>\n",
       "      <td>...</td>\n",
       "      <td>...</td>\n",
       "      <td>...</td>\n",
       "      <td>...</td>\n",
       "    </tr>\n",
       "    <tr>\n",
       "      <th>21-07-2022</th>\n",
       "      <td>27.4</td>\n",
       "      <td>25.1</td>\n",
       "      <td>33.1</td>\n",
       "      <td>27.3</td>\n",
       "    </tr>\n",
       "    <tr>\n",
       "      <th>22-07-2022</th>\n",
       "      <td>28.1</td>\n",
       "      <td>26.1</td>\n",
       "      <td>31.1</td>\n",
       "      <td>16.0</td>\n",
       "    </tr>\n",
       "    <tr>\n",
       "      <th>23-07-2022</th>\n",
       "      <td>30.3</td>\n",
       "      <td>26.2</td>\n",
       "      <td>34.7</td>\n",
       "      <td>11.9</td>\n",
       "    </tr>\n",
       "    <tr>\n",
       "      <th>24-07-2022</th>\n",
       "      <td>30.0</td>\n",
       "      <td>28.1</td>\n",
       "      <td>34.7</td>\n",
       "      <td>2.0</td>\n",
       "    </tr>\n",
       "    <tr>\n",
       "      <th>25-07-2022</th>\n",
       "      <td>27.1</td>\n",
       "      <td>24.1</td>\n",
       "      <td>34.3</td>\n",
       "      <td>0.5</td>\n",
       "    </tr>\n",
       "  </tbody>\n",
       "</table>\n",
       "<p>11894 rows × 4 columns</p>\n",
       "</div>"
      ],
      "text/plain": [
       "            Avg_temp  Min_temp  Max_temp  Precip\n",
       "time                                            \n",
       "01-01-1990       7.2       NaN      18.1     0.0\n",
       "02-01-1990      10.5       NaN      17.2     0.0\n",
       "03-01-1990      10.2       1.8      18.6     NaN\n",
       "04-01-1990       9.1       NaN      19.3     0.0\n",
       "05-01-1990      13.5       NaN      23.8     0.0\n",
       "...              ...       ...       ...     ...\n",
       "21-07-2022      27.4      25.1      33.1    27.3\n",
       "22-07-2022      28.1      26.1      31.1    16.0\n",
       "23-07-2022      30.3      26.2      34.7    11.9\n",
       "24-07-2022      30.0      28.1      34.7     2.0\n",
       "25-07-2022      27.1      24.1      34.3     0.5\n",
       "\n",
       "[11894 rows x 4 columns]"
      ]
     },
     "execution_count": 6,
     "metadata": {},
     "output_type": "execute_result"
    }
   ],
   "source": [
    "weather"
   ]
  },
  {
   "cell_type": "code",
   "execution_count": 7,
   "id": "6b527769",
   "metadata": {},
   "outputs": [
    {
     "data": {
      "text/plain": [
       "Avg_temp    0.011602\n",
       "Min_temp    0.295527\n",
       "Max_temp    0.130570\n",
       "Precip      0.517236\n",
       "dtype: float64"
      ]
     },
     "execution_count": 7,
     "metadata": {},
     "output_type": "execute_result"
    }
   ],
   "source": [
    "weather.apply(pd.isnull).sum()/weather.shape[0]"
   ]
  },
  {
   "cell_type": "code",
   "execution_count": 8,
   "id": "67764797",
   "metadata": {},
   "outputs": [
    {
     "data": {
      "text/plain": [
       "25.1    179\n",
       "26.1    170\n",
       "27.1    141\n",
       "24.1    133\n",
       "25.5    110\n",
       "       ... \n",
       "2.9       1\n",
       "32.7      1\n",
       "30.6      1\n",
       "1.0       1\n",
       "1.8       1\n",
       "Name: Min_temp, Length: 299, dtype: int64"
      ]
     },
     "execution_count": 8,
     "metadata": {},
     "output_type": "execute_result"
    }
   ],
   "source": [
    "weather['Min_temp'].value_counts()"
   ]
  },
  {
   "cell_type": "code",
   "execution_count": null,
   "id": "8a9af773",
   "metadata": {},
   "outputs": [],
   "source": []
  },
  {
   "cell_type": "code",
   "execution_count": 9,
   "id": "5a457727",
   "metadata": {},
   "outputs": [
    {
     "data": {
      "text/plain": [
       "0.0     3897\n",
       "0.5      173\n",
       "1.0      159\n",
       "2.0      130\n",
       "3.0      108\n",
       "        ... \n",
       "64.3       1\n",
       "35.8       1\n",
       "25.4       1\n",
       "42.7       1\n",
       "27.3       1\n",
       "Name: Precip, Length: 202, dtype: int64"
      ]
     },
     "execution_count": 9,
     "metadata": {},
     "output_type": "execute_result"
    }
   ],
   "source": [
    "weather['Precip'].value_counts()"
   ]
  },
  {
   "cell_type": "code",
   "execution_count": 10,
   "id": "f777d092",
   "metadata": {},
   "outputs": [
    {
     "data": {
      "text/html": [
       "<div>\n",
       "<style scoped>\n",
       "    .dataframe tbody tr th:only-of-type {\n",
       "        vertical-align: middle;\n",
       "    }\n",
       "\n",
       "    .dataframe tbody tr th {\n",
       "        vertical-align: top;\n",
       "    }\n",
       "\n",
       "    .dataframe thead th {\n",
       "        text-align: right;\n",
       "    }\n",
       "</style>\n",
       "<table border=\"1\" class=\"dataframe\">\n",
       "  <thead>\n",
       "    <tr style=\"text-align: right;\">\n",
       "      <th></th>\n",
       "      <th>Avg_temp</th>\n",
       "      <th>Min_temp</th>\n",
       "      <th>Max_temp</th>\n",
       "      <th>Precip</th>\n",
       "    </tr>\n",
       "    <tr>\n",
       "      <th>time</th>\n",
       "      <th></th>\n",
       "      <th></th>\n",
       "      <th></th>\n",
       "      <th></th>\n",
       "    </tr>\n",
       "  </thead>\n",
       "  <tbody>\n",
       "    <tr>\n",
       "      <th>03-01-1990</th>\n",
       "      <td>10.2</td>\n",
       "      <td>1.8</td>\n",
       "      <td>18.6</td>\n",
       "      <td>NaN</td>\n",
       "    </tr>\n",
       "    <tr>\n",
       "      <th>19-01-1990</th>\n",
       "      <td>20.5</td>\n",
       "      <td>13.0</td>\n",
       "      <td>29.5</td>\n",
       "      <td>NaN</td>\n",
       "    </tr>\n",
       "    <tr>\n",
       "      <th>25-01-1990</th>\n",
       "      <td>18.9</td>\n",
       "      <td>NaN</td>\n",
       "      <td>26.2</td>\n",
       "      <td>NaN</td>\n",
       "    </tr>\n",
       "    <tr>\n",
       "      <th>03-02-1990</th>\n",
       "      <td>NaN</td>\n",
       "      <td>NaN</td>\n",
       "      <td>NaN</td>\n",
       "      <td>NaN</td>\n",
       "    </tr>\n",
       "    <tr>\n",
       "      <th>08-02-1990</th>\n",
       "      <td>20.7</td>\n",
       "      <td>12.9</td>\n",
       "      <td>26.1</td>\n",
       "      <td>NaN</td>\n",
       "    </tr>\n",
       "    <tr>\n",
       "      <th>...</th>\n",
       "      <td>...</td>\n",
       "      <td>...</td>\n",
       "      <td>...</td>\n",
       "      <td>...</td>\n",
       "    </tr>\n",
       "    <tr>\n",
       "      <th>18-05-2022</th>\n",
       "      <td>34.5</td>\n",
       "      <td>29.1</td>\n",
       "      <td>41.1</td>\n",
       "      <td>NaN</td>\n",
       "    </tr>\n",
       "    <tr>\n",
       "      <th>19-05-2022</th>\n",
       "      <td>35.3</td>\n",
       "      <td>29.1</td>\n",
       "      <td>41.8</td>\n",
       "      <td>NaN</td>\n",
       "    </tr>\n",
       "    <tr>\n",
       "      <th>20-05-2022</th>\n",
       "      <td>33.9</td>\n",
       "      <td>29.1</td>\n",
       "      <td>38.1</td>\n",
       "      <td>NaN</td>\n",
       "    </tr>\n",
       "    <tr>\n",
       "      <th>26-05-2022</th>\n",
       "      <td>31.5</td>\n",
       "      <td>25.1</td>\n",
       "      <td>37.1</td>\n",
       "      <td>NaN</td>\n",
       "    </tr>\n",
       "    <tr>\n",
       "      <th>27-05-2022</th>\n",
       "      <td>32.2</td>\n",
       "      <td>27.1</td>\n",
       "      <td>38.1</td>\n",
       "      <td>NaN</td>\n",
       "    </tr>\n",
       "  </tbody>\n",
       "</table>\n",
       "<p>6152 rows × 4 columns</p>\n",
       "</div>"
      ],
      "text/plain": [
       "            Avg_temp  Min_temp  Max_temp  Precip\n",
       "time                                            \n",
       "03-01-1990      10.2       1.8      18.6     NaN\n",
       "19-01-1990      20.5      13.0      29.5     NaN\n",
       "25-01-1990      18.9       NaN      26.2     NaN\n",
       "03-02-1990       NaN       NaN       NaN     NaN\n",
       "08-02-1990      20.7      12.9      26.1     NaN\n",
       "...              ...       ...       ...     ...\n",
       "18-05-2022      34.5      29.1      41.1     NaN\n",
       "19-05-2022      35.3      29.1      41.8     NaN\n",
       "20-05-2022      33.9      29.1      38.1     NaN\n",
       "26-05-2022      31.5      25.1      37.1     NaN\n",
       "27-05-2022      32.2      27.1      38.1     NaN\n",
       "\n",
       "[6152 rows x 4 columns]"
      ]
     },
     "execution_count": 10,
     "metadata": {},
     "output_type": "execute_result"
    }
   ],
   "source": [
    "weather[pd.isnull(weather['Precip'])]"
   ]
  },
  {
   "cell_type": "code",
   "execution_count": 11,
   "id": "39c87a6a",
   "metadata": {},
   "outputs": [
    {
     "data": {
      "text/html": [
       "<div>\n",
       "<style scoped>\n",
       "    .dataframe tbody tr th:only-of-type {\n",
       "        vertical-align: middle;\n",
       "    }\n",
       "\n",
       "    .dataframe tbody tr th {\n",
       "        vertical-align: top;\n",
       "    }\n",
       "\n",
       "    .dataframe thead th {\n",
       "        text-align: right;\n",
       "    }\n",
       "</style>\n",
       "<table border=\"1\" class=\"dataframe\">\n",
       "  <thead>\n",
       "    <tr style=\"text-align: right;\">\n",
       "      <th></th>\n",
       "      <th>Avg_temp</th>\n",
       "      <th>Min_temp</th>\n",
       "      <th>Max_temp</th>\n",
       "      <th>Precip</th>\n",
       "    </tr>\n",
       "    <tr>\n",
       "      <th>time</th>\n",
       "      <th></th>\n",
       "      <th></th>\n",
       "      <th></th>\n",
       "      <th></th>\n",
       "    </tr>\n",
       "  </thead>\n",
       "  <tbody>\n",
       "    <tr>\n",
       "      <th>03-02-1990</th>\n",
       "      <td>NaN</td>\n",
       "      <td>NaN</td>\n",
       "      <td>NaN</td>\n",
       "      <td>NaN</td>\n",
       "    </tr>\n",
       "    <tr>\n",
       "      <th>31-03-1990</th>\n",
       "      <td>NaN</td>\n",
       "      <td>NaN</td>\n",
       "      <td>NaN</td>\n",
       "      <td>NaN</td>\n",
       "    </tr>\n",
       "    <tr>\n",
       "      <th>05-04-1990</th>\n",
       "      <td>NaN</td>\n",
       "      <td>NaN</td>\n",
       "      <td>NaN</td>\n",
       "      <td>NaN</td>\n",
       "    </tr>\n",
       "    <tr>\n",
       "      <th>18-04-1990</th>\n",
       "      <td>NaN</td>\n",
       "      <td>NaN</td>\n",
       "      <td>NaN</td>\n",
       "      <td>NaN</td>\n",
       "    </tr>\n",
       "    <tr>\n",
       "      <th>19-04-1990</th>\n",
       "      <td>NaN</td>\n",
       "      <td>NaN</td>\n",
       "      <td>NaN</td>\n",
       "      <td>NaN</td>\n",
       "    </tr>\n",
       "    <tr>\n",
       "      <th>...</th>\n",
       "      <td>...</td>\n",
       "      <td>...</td>\n",
       "      <td>...</td>\n",
       "      <td>...</td>\n",
       "    </tr>\n",
       "    <tr>\n",
       "      <th>08-05-2003</th>\n",
       "      <td>NaN</td>\n",
       "      <td>NaN</td>\n",
       "      <td>NaN</td>\n",
       "      <td>NaN</td>\n",
       "    </tr>\n",
       "    <tr>\n",
       "      <th>19-04-2016</th>\n",
       "      <td>NaN</td>\n",
       "      <td>NaN</td>\n",
       "      <td>NaN</td>\n",
       "      <td>NaN</td>\n",
       "    </tr>\n",
       "    <tr>\n",
       "      <th>22-04-2016</th>\n",
       "      <td>NaN</td>\n",
       "      <td>NaN</td>\n",
       "      <td>NaN</td>\n",
       "      <td>NaN</td>\n",
       "    </tr>\n",
       "    <tr>\n",
       "      <th>27-04-2016</th>\n",
       "      <td>NaN</td>\n",
       "      <td>NaN</td>\n",
       "      <td>NaN</td>\n",
       "      <td>NaN</td>\n",
       "    </tr>\n",
       "    <tr>\n",
       "      <th>29-04-2017</th>\n",
       "      <td>NaN</td>\n",
       "      <td>NaN</td>\n",
       "      <td>NaN</td>\n",
       "      <td>NaN</td>\n",
       "    </tr>\n",
       "  </tbody>\n",
       "</table>\n",
       "<p>138 rows × 4 columns</p>\n",
       "</div>"
      ],
      "text/plain": [
       "            Avg_temp  Min_temp  Max_temp  Precip\n",
       "time                                            \n",
       "03-02-1990       NaN       NaN       NaN     NaN\n",
       "31-03-1990       NaN       NaN       NaN     NaN\n",
       "05-04-1990       NaN       NaN       NaN     NaN\n",
       "18-04-1990       NaN       NaN       NaN     NaN\n",
       "19-04-1990       NaN       NaN       NaN     NaN\n",
       "...              ...       ...       ...     ...\n",
       "08-05-2003       NaN       NaN       NaN     NaN\n",
       "19-04-2016       NaN       NaN       NaN     NaN\n",
       "22-04-2016       NaN       NaN       NaN     NaN\n",
       "27-04-2016       NaN       NaN       NaN     NaN\n",
       "29-04-2017       NaN       NaN       NaN     NaN\n",
       "\n",
       "[138 rows x 4 columns]"
      ]
     },
     "execution_count": 11,
     "metadata": {},
     "output_type": "execute_result"
    }
   ],
   "source": [
    "weather[pd.isnull(weather['Avg_temp'])]"
   ]
  },
  {
   "cell_type": "code",
   "execution_count": 12,
   "id": "87889494",
   "metadata": {},
   "outputs": [
    {
     "data": {
      "text/plain": [
       "time\n",
       "01-01-1990     0.0\n",
       "02-01-1990     0.0\n",
       "03-01-1990     0.0\n",
       "04-01-1990     0.0\n",
       "05-01-1990     0.0\n",
       "              ... \n",
       "21-07-2022    27.3\n",
       "22-07-2022    16.0\n",
       "23-07-2022    11.9\n",
       "24-07-2022     2.0\n",
       "25-07-2022     0.5\n",
       "Name: Precip, Length: 11894, dtype: float64"
      ]
     },
     "execution_count": 12,
     "metadata": {},
     "output_type": "execute_result"
    }
   ],
   "source": [
    "weather['Precip'].fillna(0)"
   ]
  },
  {
   "cell_type": "code",
   "execution_count": 13,
   "id": "df35d48b",
   "metadata": {},
   "outputs": [],
   "source": [
    "weather = weather.fillna(method='ffill')\n",
    "weather = weather.fillna(method='bfill')"
   ]
  },
  {
   "cell_type": "code",
   "execution_count": 14,
   "id": "5d83b5c6",
   "metadata": {},
   "outputs": [
    {
     "data": {
      "text/plain": [
       "0.0     9952\n",
       "0.5      184\n",
       "1.0      168\n",
       "2.0      130\n",
       "3.0      120\n",
       "        ... \n",
       "64.3       1\n",
       "35.8       1\n",
       "25.4       1\n",
       "42.7       1\n",
       "27.3       1\n",
       "Name: Precip, Length: 202, dtype: int64"
      ]
     },
     "execution_count": 14,
     "metadata": {},
     "output_type": "execute_result"
    }
   ],
   "source": [
    "weather['Precip'].value_counts()"
   ]
  },
  {
   "cell_type": "code",
   "execution_count": 15,
   "id": "649f2be5",
   "metadata": {},
   "outputs": [
    {
     "data": {
      "text/html": [
       "<div>\n",
       "<style scoped>\n",
       "    .dataframe tbody tr th:only-of-type {\n",
       "        vertical-align: middle;\n",
       "    }\n",
       "\n",
       "    .dataframe tbody tr th {\n",
       "        vertical-align: top;\n",
       "    }\n",
       "\n",
       "    .dataframe thead th {\n",
       "        text-align: right;\n",
       "    }\n",
       "</style>\n",
       "<table border=\"1\" class=\"dataframe\">\n",
       "  <thead>\n",
       "    <tr style=\"text-align: right;\">\n",
       "      <th></th>\n",
       "      <th>Avg_temp</th>\n",
       "      <th>Min_temp</th>\n",
       "      <th>Max_temp</th>\n",
       "      <th>Precip</th>\n",
       "    </tr>\n",
       "    <tr>\n",
       "      <th>time</th>\n",
       "      <th></th>\n",
       "      <th></th>\n",
       "      <th></th>\n",
       "      <th></th>\n",
       "    </tr>\n",
       "  </thead>\n",
       "  <tbody>\n",
       "  </tbody>\n",
       "</table>\n",
       "</div>"
      ],
      "text/plain": [
       "Empty DataFrame\n",
       "Columns: [Avg_temp, Min_temp, Max_temp, Precip]\n",
       "Index: []"
      ]
     },
     "execution_count": 15,
     "metadata": {},
     "output_type": "execute_result"
    }
   ],
   "source": [
    "weather[pd.isnull(weather['Max_temp'])]"
   ]
  },
  {
   "cell_type": "code",
   "execution_count": null,
   "id": "4db2269e",
   "metadata": {},
   "outputs": [],
   "source": []
  },
  {
   "cell_type": "code",
   "execution_count": 16,
   "id": "8b4f53db",
   "metadata": {},
   "outputs": [
    {
     "data": {
      "text/html": [
       "<div>\n",
       "<style scoped>\n",
       "    .dataframe tbody tr th:only-of-type {\n",
       "        vertical-align: middle;\n",
       "    }\n",
       "\n",
       "    .dataframe tbody tr th {\n",
       "        vertical-align: top;\n",
       "    }\n",
       "\n",
       "    .dataframe thead th {\n",
       "        text-align: right;\n",
       "    }\n",
       "</style>\n",
       "<table border=\"1\" class=\"dataframe\">\n",
       "  <thead>\n",
       "    <tr style=\"text-align: right;\">\n",
       "      <th></th>\n",
       "      <th>Avg_temp</th>\n",
       "      <th>Min_temp</th>\n",
       "      <th>Max_temp</th>\n",
       "      <th>Precip</th>\n",
       "    </tr>\n",
       "    <tr>\n",
       "      <th>time</th>\n",
       "      <th></th>\n",
       "      <th></th>\n",
       "      <th></th>\n",
       "      <th></th>\n",
       "    </tr>\n",
       "  </thead>\n",
       "  <tbody>\n",
       "    <tr>\n",
       "      <th>01-01-1990</th>\n",
       "      <td>7.2</td>\n",
       "      <td>1.8</td>\n",
       "      <td>18.1</td>\n",
       "      <td>0.0</td>\n",
       "    </tr>\n",
       "    <tr>\n",
       "      <th>02-01-1990</th>\n",
       "      <td>10.5</td>\n",
       "      <td>1.8</td>\n",
       "      <td>17.2</td>\n",
       "      <td>0.0</td>\n",
       "    </tr>\n",
       "    <tr>\n",
       "      <th>03-01-1990</th>\n",
       "      <td>10.2</td>\n",
       "      <td>1.8</td>\n",
       "      <td>18.6</td>\n",
       "      <td>0.0</td>\n",
       "    </tr>\n",
       "    <tr>\n",
       "      <th>04-01-1990</th>\n",
       "      <td>9.1</td>\n",
       "      <td>1.8</td>\n",
       "      <td>19.3</td>\n",
       "      <td>0.0</td>\n",
       "    </tr>\n",
       "    <tr>\n",
       "      <th>05-01-1990</th>\n",
       "      <td>13.5</td>\n",
       "      <td>1.8</td>\n",
       "      <td>23.8</td>\n",
       "      <td>0.0</td>\n",
       "    </tr>\n",
       "    <tr>\n",
       "      <th>...</th>\n",
       "      <td>...</td>\n",
       "      <td>...</td>\n",
       "      <td>...</td>\n",
       "      <td>...</td>\n",
       "    </tr>\n",
       "    <tr>\n",
       "      <th>21-07-2022</th>\n",
       "      <td>27.4</td>\n",
       "      <td>25.1</td>\n",
       "      <td>33.1</td>\n",
       "      <td>27.3</td>\n",
       "    </tr>\n",
       "    <tr>\n",
       "      <th>22-07-2022</th>\n",
       "      <td>28.1</td>\n",
       "      <td>26.1</td>\n",
       "      <td>31.1</td>\n",
       "      <td>16.0</td>\n",
       "    </tr>\n",
       "    <tr>\n",
       "      <th>23-07-2022</th>\n",
       "      <td>30.3</td>\n",
       "      <td>26.2</td>\n",
       "      <td>34.7</td>\n",
       "      <td>11.9</td>\n",
       "    </tr>\n",
       "    <tr>\n",
       "      <th>24-07-2022</th>\n",
       "      <td>30.0</td>\n",
       "      <td>28.1</td>\n",
       "      <td>34.7</td>\n",
       "      <td>2.0</td>\n",
       "    </tr>\n",
       "    <tr>\n",
       "      <th>25-07-2022</th>\n",
       "      <td>27.1</td>\n",
       "      <td>24.1</td>\n",
       "      <td>34.3</td>\n",
       "      <td>0.5</td>\n",
       "    </tr>\n",
       "  </tbody>\n",
       "</table>\n",
       "<p>11894 rows × 4 columns</p>\n",
       "</div>"
      ],
      "text/plain": [
       "            Avg_temp  Min_temp  Max_temp  Precip\n",
       "time                                            \n",
       "01-01-1990       7.2       1.8      18.1     0.0\n",
       "02-01-1990      10.5       1.8      17.2     0.0\n",
       "03-01-1990      10.2       1.8      18.6     0.0\n",
       "04-01-1990       9.1       1.8      19.3     0.0\n",
       "05-01-1990      13.5       1.8      23.8     0.0\n",
       "...              ...       ...       ...     ...\n",
       "21-07-2022      27.4      25.1      33.1    27.3\n",
       "22-07-2022      28.1      26.1      31.1    16.0\n",
       "23-07-2022      30.3      26.2      34.7    11.9\n",
       "24-07-2022      30.0      28.1      34.7     2.0\n",
       "25-07-2022      27.1      24.1      34.3     0.5\n",
       "\n",
       "[11894 rows x 4 columns]"
      ]
     },
     "execution_count": 16,
     "metadata": {},
     "output_type": "execute_result"
    }
   ],
   "source": [
    "weather"
   ]
  },
  {
   "cell_type": "code",
   "execution_count": 17,
   "id": "d99f246a",
   "metadata": {},
   "outputs": [
    {
     "data": {
      "text/html": [
       "<div>\n",
       "<style scoped>\n",
       "    .dataframe tbody tr th:only-of-type {\n",
       "        vertical-align: middle;\n",
       "    }\n",
       "\n",
       "    .dataframe tbody tr th {\n",
       "        vertical-align: top;\n",
       "    }\n",
       "\n",
       "    .dataframe thead th {\n",
       "        text-align: right;\n",
       "    }\n",
       "</style>\n",
       "<table border=\"1\" class=\"dataframe\">\n",
       "  <thead>\n",
       "    <tr style=\"text-align: right;\">\n",
       "      <th></th>\n",
       "      <th>Avg_temp</th>\n",
       "      <th>Min_temp</th>\n",
       "      <th>Max_temp</th>\n",
       "      <th>Precip</th>\n",
       "    </tr>\n",
       "    <tr>\n",
       "      <th>time</th>\n",
       "      <th></th>\n",
       "      <th></th>\n",
       "      <th></th>\n",
       "      <th></th>\n",
       "    </tr>\n",
       "  </thead>\n",
       "  <tbody>\n",
       "  </tbody>\n",
       "</table>\n",
       "</div>"
      ],
      "text/plain": [
       "Empty DataFrame\n",
       "Columns: [Avg_temp, Min_temp, Max_temp, Precip]\n",
       "Index: []"
      ]
     },
     "execution_count": 17,
     "metadata": {},
     "output_type": "execute_result"
    }
   ],
   "source": [
    "weather[pd.isnull(weather['Max_temp'])]"
   ]
  },
  {
   "cell_type": "code",
   "execution_count": 18,
   "id": "1d475aaf",
   "metadata": {},
   "outputs": [
    {
     "data": {
      "text/html": [
       "<div>\n",
       "<style scoped>\n",
       "    .dataframe tbody tr th:only-of-type {\n",
       "        vertical-align: middle;\n",
       "    }\n",
       "\n",
       "    .dataframe tbody tr th {\n",
       "        vertical-align: top;\n",
       "    }\n",
       "\n",
       "    .dataframe thead th {\n",
       "        text-align: right;\n",
       "    }\n",
       "</style>\n",
       "<table border=\"1\" class=\"dataframe\">\n",
       "  <thead>\n",
       "    <tr style=\"text-align: right;\">\n",
       "      <th></th>\n",
       "      <th>Avg_temp</th>\n",
       "      <th>Min_temp</th>\n",
       "      <th>Max_temp</th>\n",
       "      <th>Precip</th>\n",
       "    </tr>\n",
       "    <tr>\n",
       "      <th>time</th>\n",
       "      <th></th>\n",
       "      <th></th>\n",
       "      <th></th>\n",
       "      <th></th>\n",
       "    </tr>\n",
       "  </thead>\n",
       "  <tbody>\n",
       "    <tr>\n",
       "      <th>01-01-1990</th>\n",
       "      <td>7.2</td>\n",
       "      <td>1.8</td>\n",
       "      <td>18.1</td>\n",
       "      <td>0.0</td>\n",
       "    </tr>\n",
       "    <tr>\n",
       "      <th>02-01-1990</th>\n",
       "      <td>10.5</td>\n",
       "      <td>1.8</td>\n",
       "      <td>17.2</td>\n",
       "      <td>0.0</td>\n",
       "    </tr>\n",
       "    <tr>\n",
       "      <th>03-01-1990</th>\n",
       "      <td>10.2</td>\n",
       "      <td>1.8</td>\n",
       "      <td>18.6</td>\n",
       "      <td>0.0</td>\n",
       "    </tr>\n",
       "    <tr>\n",
       "      <th>04-01-1990</th>\n",
       "      <td>9.1</td>\n",
       "      <td>1.8</td>\n",
       "      <td>19.3</td>\n",
       "      <td>0.0</td>\n",
       "    </tr>\n",
       "    <tr>\n",
       "      <th>05-01-1990</th>\n",
       "      <td>13.5</td>\n",
       "      <td>1.8</td>\n",
       "      <td>23.8</td>\n",
       "      <td>0.0</td>\n",
       "    </tr>\n",
       "    <tr>\n",
       "      <th>...</th>\n",
       "      <td>...</td>\n",
       "      <td>...</td>\n",
       "      <td>...</td>\n",
       "      <td>...</td>\n",
       "    </tr>\n",
       "    <tr>\n",
       "      <th>21-07-2022</th>\n",
       "      <td>27.4</td>\n",
       "      <td>25.1</td>\n",
       "      <td>33.1</td>\n",
       "      <td>27.3</td>\n",
       "    </tr>\n",
       "    <tr>\n",
       "      <th>22-07-2022</th>\n",
       "      <td>28.1</td>\n",
       "      <td>26.1</td>\n",
       "      <td>31.1</td>\n",
       "      <td>16.0</td>\n",
       "    </tr>\n",
       "    <tr>\n",
       "      <th>23-07-2022</th>\n",
       "      <td>30.3</td>\n",
       "      <td>26.2</td>\n",
       "      <td>34.7</td>\n",
       "      <td>11.9</td>\n",
       "    </tr>\n",
       "    <tr>\n",
       "      <th>24-07-2022</th>\n",
       "      <td>30.0</td>\n",
       "      <td>28.1</td>\n",
       "      <td>34.7</td>\n",
       "      <td>2.0</td>\n",
       "    </tr>\n",
       "    <tr>\n",
       "      <th>25-07-2022</th>\n",
       "      <td>27.1</td>\n",
       "      <td>24.1</td>\n",
       "      <td>34.3</td>\n",
       "      <td>0.5</td>\n",
       "    </tr>\n",
       "  </tbody>\n",
       "</table>\n",
       "<p>11894 rows × 4 columns</p>\n",
       "</div>"
      ],
      "text/plain": [
       "            Avg_temp  Min_temp  Max_temp  Precip\n",
       "time                                            \n",
       "01-01-1990       7.2       1.8      18.1     0.0\n",
       "02-01-1990      10.5       1.8      17.2     0.0\n",
       "03-01-1990      10.2       1.8      18.6     0.0\n",
       "04-01-1990       9.1       1.8      19.3     0.0\n",
       "05-01-1990      13.5       1.8      23.8     0.0\n",
       "...              ...       ...       ...     ...\n",
       "21-07-2022      27.4      25.1      33.1    27.3\n",
       "22-07-2022      28.1      26.1      31.1    16.0\n",
       "23-07-2022      30.3      26.2      34.7    11.9\n",
       "24-07-2022      30.0      28.1      34.7     2.0\n",
       "25-07-2022      27.1      24.1      34.3     0.5\n",
       "\n",
       "[11894 rows x 4 columns]"
      ]
     },
     "execution_count": 18,
     "metadata": {},
     "output_type": "execute_result"
    }
   ],
   "source": [
    "weather"
   ]
  },
  {
   "cell_type": "code",
   "execution_count": 19,
   "id": "1b033523",
   "metadata": {},
   "outputs": [
    {
     "data": {
      "text/plain": [
       "Avg_temp    float64\n",
       "Min_temp    float64\n",
       "Max_temp    float64\n",
       "Precip      float64\n",
       "dtype: object"
      ]
     },
     "execution_count": 19,
     "metadata": {},
     "output_type": "execute_result"
    }
   ],
   "source": [
    "weather.dtypes"
   ]
  },
  {
   "cell_type": "code",
   "execution_count": 20,
   "id": "b4ea8c66",
   "metadata": {},
   "outputs": [
    {
     "data": {
      "text/plain": [
       "Index(['01-01-1990', '02-01-1990', '03-01-1990', '04-01-1990', '05-01-1990',\n",
       "       '06-01-1990', '07-01-1990', '08-01-1990', '09-01-1990', '10-01-1990',\n",
       "       ...\n",
       "       '16-07-2022', '17-07-2022', '18-07-2022', '19-07-2022', '20-07-2022',\n",
       "       '21-07-2022', '22-07-2022', '23-07-2022', '24-07-2022', '25-07-2022'],\n",
       "      dtype='object', name='time', length=11894)"
      ]
     },
     "execution_count": 20,
     "metadata": {},
     "output_type": "execute_result"
    }
   ],
   "source": [
    "weather.index"
   ]
  },
  {
   "cell_type": "code",
   "execution_count": null,
   "id": "a9f60629",
   "metadata": {},
   "outputs": [],
   "source": []
  },
  {
   "cell_type": "code",
   "execution_count": 21,
   "id": "c72cc1e4",
   "metadata": {},
   "outputs": [],
   "source": [
    "weather.index = pd.to_datetime(weather.index,  format='%d-%m-%Y')\n"
   ]
  },
  {
   "cell_type": "code",
   "execution_count": 22,
   "id": "226b4ccd",
   "metadata": {},
   "outputs": [],
   "source": [
    "weather.index = weather.index.astype('datetime64[ns]')\n"
   ]
  },
  {
   "cell_type": "code",
   "execution_count": 23,
   "id": "c6c377aa",
   "metadata": {},
   "outputs": [
    {
     "data": {
      "text/plain": [
       "DatetimeIndex(['1990-01-01', '1990-01-02', '1990-01-03', '1990-01-04',\n",
       "               '1990-01-05', '1990-01-06', '1990-01-07', '1990-01-08',\n",
       "               '1990-01-09', '1990-01-10',\n",
       "               ...\n",
       "               '2022-07-16', '2022-07-17', '2022-07-18', '2022-07-19',\n",
       "               '2022-07-20', '2022-07-21', '2022-07-22', '2022-07-23',\n",
       "               '2022-07-24', '2022-07-25'],\n",
       "              dtype='datetime64[ns]', name='time', length=11894, freq=None)"
      ]
     },
     "execution_count": 23,
     "metadata": {},
     "output_type": "execute_result"
    }
   ],
   "source": [
    "weather.index"
   ]
  },
  {
   "cell_type": "code",
   "execution_count": 24,
   "id": "ae5599af",
   "metadata": {},
   "outputs": [
    {
     "data": {
      "text/html": [
       "<div>\n",
       "<style scoped>\n",
       "    .dataframe tbody tr th:only-of-type {\n",
       "        vertical-align: middle;\n",
       "    }\n",
       "\n",
       "    .dataframe tbody tr th {\n",
       "        vertical-align: top;\n",
       "    }\n",
       "\n",
       "    .dataframe thead th {\n",
       "        text-align: right;\n",
       "    }\n",
       "</style>\n",
       "<table border=\"1\" class=\"dataframe\">\n",
       "  <thead>\n",
       "    <tr style=\"text-align: right;\">\n",
       "      <th></th>\n",
       "      <th>Avg_temp</th>\n",
       "      <th>Min_temp</th>\n",
       "      <th>Max_temp</th>\n",
       "      <th>Precip</th>\n",
       "    </tr>\n",
       "    <tr>\n",
       "      <th>time</th>\n",
       "      <th></th>\n",
       "      <th></th>\n",
       "      <th></th>\n",
       "      <th></th>\n",
       "    </tr>\n",
       "  </thead>\n",
       "  <tbody>\n",
       "    <tr>\n",
       "      <th>1990-01-01</th>\n",
       "      <td>7.2</td>\n",
       "      <td>1.8</td>\n",
       "      <td>18.1</td>\n",
       "      <td>0.0</td>\n",
       "    </tr>\n",
       "    <tr>\n",
       "      <th>1990-01-02</th>\n",
       "      <td>10.5</td>\n",
       "      <td>1.8</td>\n",
       "      <td>17.2</td>\n",
       "      <td>0.0</td>\n",
       "    </tr>\n",
       "    <tr>\n",
       "      <th>1990-01-03</th>\n",
       "      <td>10.2</td>\n",
       "      <td>1.8</td>\n",
       "      <td>18.6</td>\n",
       "      <td>0.0</td>\n",
       "    </tr>\n",
       "    <tr>\n",
       "      <th>1990-01-04</th>\n",
       "      <td>9.1</td>\n",
       "      <td>1.8</td>\n",
       "      <td>19.3</td>\n",
       "      <td>0.0</td>\n",
       "    </tr>\n",
       "    <tr>\n",
       "      <th>1990-01-05</th>\n",
       "      <td>13.5</td>\n",
       "      <td>1.8</td>\n",
       "      <td>23.8</td>\n",
       "      <td>0.0</td>\n",
       "    </tr>\n",
       "    <tr>\n",
       "      <th>...</th>\n",
       "      <td>...</td>\n",
       "      <td>...</td>\n",
       "      <td>...</td>\n",
       "      <td>...</td>\n",
       "    </tr>\n",
       "    <tr>\n",
       "      <th>2022-07-21</th>\n",
       "      <td>27.4</td>\n",
       "      <td>25.1</td>\n",
       "      <td>33.1</td>\n",
       "      <td>27.3</td>\n",
       "    </tr>\n",
       "    <tr>\n",
       "      <th>2022-07-22</th>\n",
       "      <td>28.1</td>\n",
       "      <td>26.1</td>\n",
       "      <td>31.1</td>\n",
       "      <td>16.0</td>\n",
       "    </tr>\n",
       "    <tr>\n",
       "      <th>2022-07-23</th>\n",
       "      <td>30.3</td>\n",
       "      <td>26.2</td>\n",
       "      <td>34.7</td>\n",
       "      <td>11.9</td>\n",
       "    </tr>\n",
       "    <tr>\n",
       "      <th>2022-07-24</th>\n",
       "      <td>30.0</td>\n",
       "      <td>28.1</td>\n",
       "      <td>34.7</td>\n",
       "      <td>2.0</td>\n",
       "    </tr>\n",
       "    <tr>\n",
       "      <th>2022-07-25</th>\n",
       "      <td>27.1</td>\n",
       "      <td>24.1</td>\n",
       "      <td>34.3</td>\n",
       "      <td>0.5</td>\n",
       "    </tr>\n",
       "  </tbody>\n",
       "</table>\n",
       "<p>11894 rows × 4 columns</p>\n",
       "</div>"
      ],
      "text/plain": [
       "            Avg_temp  Min_temp  Max_temp  Precip\n",
       "time                                            \n",
       "1990-01-01       7.2       1.8      18.1     0.0\n",
       "1990-01-02      10.5       1.8      17.2     0.0\n",
       "1990-01-03      10.2       1.8      18.6     0.0\n",
       "1990-01-04       9.1       1.8      19.3     0.0\n",
       "1990-01-05      13.5       1.8      23.8     0.0\n",
       "...              ...       ...       ...     ...\n",
       "2022-07-21      27.4      25.1      33.1    27.3\n",
       "2022-07-22      28.1      26.1      31.1    16.0\n",
       "2022-07-23      30.3      26.2      34.7    11.9\n",
       "2022-07-24      30.0      28.1      34.7     2.0\n",
       "2022-07-25      27.1      24.1      34.3     0.5\n",
       "\n",
       "[11894 rows x 4 columns]"
      ]
     },
     "execution_count": 24,
     "metadata": {},
     "output_type": "execute_result"
    }
   ],
   "source": [
    "weather"
   ]
  },
  {
   "cell_type": "code",
   "execution_count": null,
   "id": "291a8f8d",
   "metadata": {},
   "outputs": [],
   "source": []
  },
  {
   "cell_type": "code",
   "execution_count": 25,
   "id": "257846cb",
   "metadata": {},
   "outputs": [
    {
     "data": {
      "text/plain": [
       "DatetimeIndex(['1990-01-01', '1990-01-02', '1990-01-03', '1990-01-04',\n",
       "               '1990-01-05', '1990-01-06', '1990-01-07', '1990-01-08',\n",
       "               '1990-01-09', '1990-01-10',\n",
       "               ...\n",
       "               '2022-07-16', '2022-07-17', '2022-07-18', '2022-07-19',\n",
       "               '2022-07-20', '2022-07-21', '2022-07-22', '2022-07-23',\n",
       "               '2022-07-24', '2022-07-25'],\n",
       "              dtype='datetime64[ns]', name='time', length=11894, freq=None)"
      ]
     },
     "execution_count": 25,
     "metadata": {},
     "output_type": "execute_result"
    }
   ],
   "source": [
    "weather.index"
   ]
  },
  {
   "cell_type": "code",
   "execution_count": null,
   "id": "a5d551eb",
   "metadata": {},
   "outputs": [],
   "source": []
  },
  {
   "cell_type": "code",
   "execution_count": 26,
   "id": "f2a12a03",
   "metadata": {},
   "outputs": [
    {
     "data": {
      "text/plain": [
       "<AxesSubplot:xlabel='time'>"
      ]
     },
     "execution_count": 26,
     "metadata": {},
     "output_type": "execute_result"
    },
    {
     "data": {
      "image/png": "[encoded data removed]",
      "text/plain": [
       "<Figure size 640x480 with 1 Axes>"
      ]
     },
     "metadata": {},
     "output_type": "display_data"
    }
   ],
   "source": [
    "weather[['Max_temp', 'Min_temp']].plot()"
   ]
  },
  {
   "cell_type": "code",
   "execution_count": 27,
   "id": "5893901d",
   "metadata": {},
   "outputs": [],
   "source": [
    "weather['Precip'] = np.clip(weather['Precip'], a_min=None, a_max=40)"
   ]
  },
  {
   "cell_type": "code",
   "execution_count": 28,
   "id": "cb1ffcd9",
   "metadata": {},
   "outputs": [
    {
     "data": {
      "text/plain": [
       "time\n",
       "1990     599.6\n",
       "1991     753.2\n",
       "1992     466.9\n",
       "1993     518.9\n",
       "1994     647.8\n",
       "1995     405.3\n",
       "1996     458.2\n",
       "1997     661.4\n",
       "1998     695.5\n",
       "1999     502.2\n",
       "2000     721.3\n",
       "2001     538.7\n",
       "2002     478.1\n",
       "2003     675.4\n",
       "2004     522.0\n",
       "2005     458.2\n",
       "2006     511.5\n",
       "2007     491.6\n",
       "2008    1059.7\n",
       "2009     652.4\n",
       "2010     668.7\n",
       "2011     893.2\n",
       "2012     703.0\n",
       "2013     720.7\n",
       "2014     575.1\n",
       "2015     508.1\n",
       "2016     679.9\n",
       "2017     579.6\n",
       "2018     854.0\n",
       "2019     819.8\n",
       "2020     848.2\n",
       "2021     636.7\n",
       "2022     221.6\n",
       "Name: Precip, dtype: float64"
      ]
     },
     "execution_count": 28,
     "metadata": {},
     "output_type": "execute_result"
    }
   ],
   "source": [
    "weather.groupby(weather.index.year).sum()['Precip'] "
   ]
  },
  {
   "cell_type": "code",
   "execution_count": 29,
   "id": "788f8ab3",
   "metadata": {},
   "outputs": [
    {
     "data": {
      "text/plain": [
       "<AxesSubplot:xlabel='time'>"
      ]
     },
     "execution_count": 29,
     "metadata": {},
     "output_type": "execute_result"
    },
    {
     "data": {
      "image/png": "[encoded data removed]",
      "text/plain": [
       "<Figure size 640x480 with 1 Axes>"
      ]
     },
     "metadata": {},
     "output_type": "display_data"
    }
   ],
   "source": [
    "weather['Precip'].plot()"
   ]
  },
  {
   "cell_type": "code",
   "execution_count": 30,
   "id": "dc3439b7",
   "metadata": {},
   "outputs": [],
   "source": [
    "weather['target'] = weather.shift(-1)['Max_temp']"
   ]
  },
  {
   "cell_type": "code",
   "execution_count": 31,
   "id": "1b9cd4d6",
   "metadata": {},
   "outputs": [
    {
     "data": {
      "text/html": [
       "<div>\n",
       "<style scoped>\n",
       "    .dataframe tbody tr th:only-of-type {\n",
       "        vertical-align: middle;\n",
       "    }\n",
       "\n",
       "    .dataframe tbody tr th {\n",
       "        vertical-align: top;\n",
       "    }\n",
       "\n",
       "    .dataframe thead th {\n",
       "        text-align: right;\n",
       "    }\n",
       "</style>\n",
       "<table border=\"1\" class=\"dataframe\">\n",
       "  <thead>\n",
       "    <tr style=\"text-align: right;\">\n",
       "      <th></th>\n",
       "      <th>Avg_temp</th>\n",
       "      <th>Min_temp</th>\n",
       "      <th>Max_temp</th>\n",
       "      <th>Precip</th>\n",
       "      <th>target</th>\n",
       "    </tr>\n",
       "    <tr>\n",
       "      <th>time</th>\n",
       "      <th></th>\n",
       "      <th></th>\n",
       "      <th></th>\n",
       "      <th></th>\n",
       "      <th></th>\n",
       "    </tr>\n",
       "  </thead>\n",
       "  <tbody>\n",
       "    <tr>\n",
       "      <th>1990-01-01</th>\n",
       "      <td>7.2</td>\n",
       "      <td>1.8</td>\n",
       "      <td>18.1</td>\n",
       "      <td>0.0</td>\n",
       "      <td>17.2</td>\n",
       "    </tr>\n",
       "    <tr>\n",
       "      <th>1990-01-02</th>\n",
       "      <td>10.5</td>\n",
       "      <td>1.8</td>\n",
       "      <td>17.2</td>\n",
       "      <td>0.0</td>\n",
       "      <td>18.6</td>\n",
       "    </tr>\n",
       "    <tr>\n",
       "      <th>1990-01-03</th>\n",
       "      <td>10.2</td>\n",
       "      <td>1.8</td>\n",
       "      <td>18.6</td>\n",
       "      <td>0.0</td>\n",
       "      <td>19.3</td>\n",
       "    </tr>\n",
       "    <tr>\n",
       "      <th>1990-01-04</th>\n",
       "      <td>9.1</td>\n",
       "      <td>1.8</td>\n",
       "      <td>19.3</td>\n",
       "      <td>0.0</td>\n",
       "      <td>23.8</td>\n",
       "    </tr>\n",
       "    <tr>\n",
       "      <th>1990-01-05</th>\n",
       "      <td>13.5</td>\n",
       "      <td>1.8</td>\n",
       "      <td>23.8</td>\n",
       "      <td>0.0</td>\n",
       "      <td>21.4</td>\n",
       "    </tr>\n",
       "    <tr>\n",
       "      <th>...</th>\n",
       "      <td>...</td>\n",
       "      <td>...</td>\n",
       "      <td>...</td>\n",
       "      <td>...</td>\n",
       "      <td>...</td>\n",
       "    </tr>\n",
       "    <tr>\n",
       "      <th>2022-07-21</th>\n",
       "      <td>27.4</td>\n",
       "      <td>25.1</td>\n",
       "      <td>33.1</td>\n",
       "      <td>27.3</td>\n",
       "      <td>31.1</td>\n",
       "    </tr>\n",
       "    <tr>\n",
       "      <th>2022-07-22</th>\n",
       "      <td>28.1</td>\n",
       "      <td>26.1</td>\n",
       "      <td>31.1</td>\n",
       "      <td>16.0</td>\n",
       "      <td>34.7</td>\n",
       "    </tr>\n",
       "    <tr>\n",
       "      <th>2022-07-23</th>\n",
       "      <td>30.3</td>\n",
       "      <td>26.2</td>\n",
       "      <td>34.7</td>\n",
       "      <td>11.9</td>\n",
       "      <td>34.7</td>\n",
       "    </tr>\n",
       "    <tr>\n",
       "      <th>2022-07-24</th>\n",
       "      <td>30.0</td>\n",
       "      <td>28.1</td>\n",
       "      <td>34.7</td>\n",
       "      <td>2.0</td>\n",
       "      <td>34.3</td>\n",
       "    </tr>\n",
       "    <tr>\n",
       "      <th>2022-07-25</th>\n",
       "      <td>27.1</td>\n",
       "      <td>24.1</td>\n",
       "      <td>34.3</td>\n",
       "      <td>0.5</td>\n",
       "      <td>NaN</td>\n",
       "    </tr>\n",
       "  </tbody>\n",
       "</table>\n",
       "<p>11894 rows × 5 columns</p>\n",
       "</div>"
      ],
      "text/plain": [
       "            Avg_temp  Min_temp  Max_temp  Precip  target\n",
       "time                                                    \n",
       "1990-01-01       7.2       1.8      18.1     0.0    17.2\n",
       "1990-01-02      10.5       1.8      17.2     0.0    18.6\n",
       "1990-01-03      10.2       1.8      18.6     0.0    19.3\n",
       "1990-01-04       9.1       1.8      19.3     0.0    23.8\n",
       "1990-01-05      13.5       1.8      23.8     0.0    21.4\n",
       "...              ...       ...       ...     ...     ...\n",
       "2022-07-21      27.4      25.1      33.1    27.3    31.1\n",
       "2022-07-22      28.1      26.1      31.1    16.0    34.7\n",
       "2022-07-23      30.3      26.2      34.7    11.9    34.7\n",
       "2022-07-24      30.0      28.1      34.7     2.0    34.3\n",
       "2022-07-25      27.1      24.1      34.3     0.5     NaN\n",
       "\n",
       "[11894 rows x 5 columns]"
      ]
     },
     "execution_count": 31,
     "metadata": {},
     "output_type": "execute_result"
    }
   ],
   "source": [
    "weather"
   ]
  },
  {
   "cell_type": "code",
   "execution_count": 32,
   "id": "65efd06f",
   "metadata": {},
   "outputs": [],
   "source": [
    "weather = weather.iloc[:-1, :].copy()"
   ]
  },
  {
   "cell_type": "code",
   "execution_count": 33,
   "id": "ccad60b5",
   "metadata": {},
   "outputs": [
    {
     "data": {
      "text/html": [
       "<div>\n",
       "<style scoped>\n",
       "    .dataframe tbody tr th:only-of-type {\n",
       "        vertical-align: middle;\n",
       "    }\n",
       "\n",
       "    .dataframe tbody tr th {\n",
       "        vertical-align: top;\n",
       "    }\n",
       "\n",
       "    .dataframe thead th {\n",
       "        text-align: right;\n",
       "    }\n",
       "</style>\n",
       "<table border=\"1\" class=\"dataframe\">\n",
       "  <thead>\n",
       "    <tr style=\"text-align: right;\">\n",
       "      <th></th>\n",
       "      <th>Avg_temp</th>\n",
       "      <th>Min_temp</th>\n",
       "      <th>Max_temp</th>\n",
       "      <th>Precip</th>\n",
       "      <th>target</th>\n",
       "    </tr>\n",
       "    <tr>\n",
       "      <th>time</th>\n",
       "      <th></th>\n",
       "      <th></th>\n",
       "      <th></th>\n",
       "      <th></th>\n",
       "      <th></th>\n",
       "    </tr>\n",
       "  </thead>\n",
       "  <tbody>\n",
       "    <tr>\n",
       "      <th>1990-01-01</th>\n",
       "      <td>7.2</td>\n",
       "      <td>1.8</td>\n",
       "      <td>18.1</td>\n",
       "      <td>0.0</td>\n",
       "      <td>17.2</td>\n",
       "    </tr>\n",
       "    <tr>\n",
       "      <th>1990-01-02</th>\n",
       "      <td>10.5</td>\n",
       "      <td>1.8</td>\n",
       "      <td>17.2</td>\n",
       "      <td>0.0</td>\n",
       "      <td>18.6</td>\n",
       "    </tr>\n",
       "    <tr>\n",
       "      <th>1990-01-03</th>\n",
       "      <td>10.2</td>\n",
       "      <td>1.8</td>\n",
       "      <td>18.6</td>\n",
       "      <td>0.0</td>\n",
       "      <td>19.3</td>\n",
       "    </tr>\n",
       "    <tr>\n",
       "      <th>1990-01-04</th>\n",
       "      <td>9.1</td>\n",
       "      <td>1.8</td>\n",
       "      <td>19.3</td>\n",
       "      <td>0.0</td>\n",
       "      <td>23.8</td>\n",
       "    </tr>\n",
       "    <tr>\n",
       "      <th>1990-01-05</th>\n",
       "      <td>13.5</td>\n",
       "      <td>1.8</td>\n",
       "      <td>23.8</td>\n",
       "      <td>0.0</td>\n",
       "      <td>21.4</td>\n",
       "    </tr>\n",
       "    <tr>\n",
       "      <th>...</th>\n",
       "      <td>...</td>\n",
       "      <td>...</td>\n",
       "      <td>...</td>\n",
       "      <td>...</td>\n",
       "      <td>...</td>\n",
       "    </tr>\n",
       "    <tr>\n",
       "      <th>2022-07-20</th>\n",
       "      <td>28.6</td>\n",
       "      <td>25.1</td>\n",
       "      <td>33.1</td>\n",
       "      <td>17.7</td>\n",
       "      <td>33.1</td>\n",
       "    </tr>\n",
       "    <tr>\n",
       "      <th>2022-07-21</th>\n",
       "      <td>27.4</td>\n",
       "      <td>25.1</td>\n",
       "      <td>33.1</td>\n",
       "      <td>27.3</td>\n",
       "      <td>31.1</td>\n",
       "    </tr>\n",
       "    <tr>\n",
       "      <th>2022-07-22</th>\n",
       "      <td>28.1</td>\n",
       "      <td>26.1</td>\n",
       "      <td>31.1</td>\n",
       "      <td>16.0</td>\n",
       "      <td>34.7</td>\n",
       "    </tr>\n",
       "    <tr>\n",
       "      <th>2022-07-23</th>\n",
       "      <td>30.3</td>\n",
       "      <td>26.2</td>\n",
       "      <td>34.7</td>\n",
       "      <td>11.9</td>\n",
       "      <td>34.7</td>\n",
       "    </tr>\n",
       "    <tr>\n",
       "      <th>2022-07-24</th>\n",
       "      <td>30.0</td>\n",
       "      <td>28.1</td>\n",
       "      <td>34.7</td>\n",
       "      <td>2.0</td>\n",
       "      <td>34.3</td>\n",
       "    </tr>\n",
       "  </tbody>\n",
       "</table>\n",
       "<p>11893 rows × 5 columns</p>\n",
       "</div>"
      ],
      "text/plain": [
       "            Avg_temp  Min_temp  Max_temp  Precip  target\n",
       "time                                                    \n",
       "1990-01-01       7.2       1.8      18.1     0.0    17.2\n",
       "1990-01-02      10.5       1.8      17.2     0.0    18.6\n",
       "1990-01-03      10.2       1.8      18.6     0.0    19.3\n",
       "1990-01-04       9.1       1.8      19.3     0.0    23.8\n",
       "1990-01-05      13.5       1.8      23.8     0.0    21.4\n",
       "...              ...       ...       ...     ...     ...\n",
       "2022-07-20      28.6      25.1      33.1    17.7    33.1\n",
       "2022-07-21      27.4      25.1      33.1    27.3    31.1\n",
       "2022-07-22      28.1      26.1      31.1    16.0    34.7\n",
       "2022-07-23      30.3      26.2      34.7    11.9    34.7\n",
       "2022-07-24      30.0      28.1      34.7     2.0    34.3\n",
       "\n",
       "[11893 rows x 5 columns]"
      ]
     },
     "execution_count": 33,
     "metadata": {},
     "output_type": "execute_result"
    }
   ],
   "source": [
    "weather"
   ]
  },
  {
   "cell_type": "code",
   "execution_count": 34,
   "id": "9f3aeb8e",
   "metadata": {},
   "outputs": [],
   "source": [
    "from sklearn.linear_model import Ridge\n",
    "\n",
    "reg = Ridge(alpha= 0.1)"
   ]
  },
  {
   "cell_type": "code",
   "execution_count": 35,
   "id": "24f6ba17",
   "metadata": {},
   "outputs": [],
   "source": [
    "predictiors = ['Max_temp', 'Min_temp', 'Precip', 'Avg_temp']"
   ]
  },
  {
   "cell_type": "code",
   "execution_count": 36,
   "id": "25746b30",
   "metadata": {},
   "outputs": [],
   "source": [
    "train = weather.loc[:'2020-12-31' ]"
   ]
  },
  {
   "cell_type": "code",
   "execution_count": 37,
   "id": "fe159595",
   "metadata": {},
   "outputs": [],
   "source": [
    "test = weather.loc['2021-01-01' :]"
   ]
  },
  {
   "cell_type": "code",
   "execution_count": 38,
   "id": "33e90b68",
   "metadata": {},
   "outputs": [
    {
     "data": {
      "text/plain": [
       "Ridge(alpha=0.1)"
      ]
     },
     "execution_count": 38,
     "metadata": {},
     "output_type": "execute_result"
    }
   ],
   "source": [
    "reg.fit(train[predictiors], train['target'])"
   ]
  },
  {
   "cell_type": "code",
   "execution_count": 39,
   "id": "d71fb01b",
   "metadata": {},
   "outputs": [],
   "source": [
    "predictions = reg.predict(test[predictiors])"
   ]
  },
  {
   "cell_type": "code",
   "execution_count": 40,
   "id": "5ba2c919",
   "metadata": {},
   "outputs": [],
   "source": [
    "from sklearn.metrics import mean_absolute_error"
   ]
  },
  {
   "cell_type": "code",
   "execution_count": 41,
   "id": "4792178f",
   "metadata": {},
   "outputs": [
    {
     "data": {
      "text/plain": [
       "1.3041810261534632"
      ]
     },
     "execution_count": 41,
     "metadata": {},
     "output_type": "execute_result"
    }
   ],
   "source": [
    "mean_absolute_error(test['target'], predictions)"
   ]
  },
  {
   "cell_type": "code",
   "execution_count": 42,
   "id": "1c2e3c54",
   "metadata": {},
   "outputs": [],
   "source": [
    "combined = pd.concat([test['target'], pd.Series(predictions, index= test.index)], axis=1)\n",
    "combined.columns= ['actual', 'predictions']"
   ]
  },
  {
   "cell_type": "code",
   "execution_count": 43,
   "id": "a7515fbb",
   "metadata": {},
   "outputs": [
    {
     "data": {
      "text/html": [
       "<div>\n",
       "<style scoped>\n",
       "    .dataframe tbody tr th:only-of-type {\n",
       "        vertical-align: middle;\n",
       "    }\n",
       "\n",
       "    .dataframe tbody tr th {\n",
       "        vertical-align: top;\n",
       "    }\n",
       "\n",
       "    .dataframe thead th {\n",
       "        text-align: right;\n",
       "    }\n",
       "</style>\n",
       "<table border=\"1\" class=\"dataframe\">\n",
       "  <thead>\n",
       "    <tr style=\"text-align: right;\">\n",
       "      <th></th>\n",
       "      <th>actual</th>\n",
       "      <th>predictions</th>\n",
       "    </tr>\n",
       "    <tr>\n",
       "      <th>time</th>\n",
       "      <th></th>\n",
       "      <th></th>\n",
       "    </tr>\n",
       "  </thead>\n",
       "  <tbody>\n",
       "    <tr>\n",
       "      <th>2021-01-01</th>\n",
       "      <td>23.5</td>\n",
       "      <td>20.787363</td>\n",
       "    </tr>\n",
       "    <tr>\n",
       "      <th>2021-01-02</th>\n",
       "      <td>24.7</td>\n",
       "      <td>24.148192</td>\n",
       "    </tr>\n",
       "    <tr>\n",
       "      <th>2021-01-03</th>\n",
       "      <td>25.2</td>\n",
       "      <td>25.612739</td>\n",
       "    </tr>\n",
       "    <tr>\n",
       "      <th>2021-01-04</th>\n",
       "      <td>26.3</td>\n",
       "      <td>25.061407</td>\n",
       "    </tr>\n",
       "    <tr>\n",
       "      <th>2021-01-05</th>\n",
       "      <td>28.1</td>\n",
       "      <td>26.324683</td>\n",
       "    </tr>\n",
       "    <tr>\n",
       "      <th>...</th>\n",
       "      <td>...</td>\n",
       "      <td>...</td>\n",
       "    </tr>\n",
       "    <tr>\n",
       "      <th>2022-07-20</th>\n",
       "      <td>33.1</td>\n",
       "      <td>33.316543</td>\n",
       "    </tr>\n",
       "    <tr>\n",
       "      <th>2022-07-21</th>\n",
       "      <td>31.1</td>\n",
       "      <td>32.690832</td>\n",
       "    </tr>\n",
       "    <tr>\n",
       "      <th>2022-07-22</th>\n",
       "      <td>34.7</td>\n",
       "      <td>31.604314</td>\n",
       "    </tr>\n",
       "    <tr>\n",
       "      <th>2022-07-23</th>\n",
       "      <td>34.7</td>\n",
       "      <td>35.018271</td>\n",
       "    </tr>\n",
       "    <tr>\n",
       "      <th>2022-07-24</th>\n",
       "      <td>34.3</td>\n",
       "      <td>34.625930</td>\n",
       "    </tr>\n",
       "  </tbody>\n",
       "</table>\n",
       "<p>570 rows × 2 columns</p>\n",
       "</div>"
      ],
      "text/plain": [
       "            actual  predictions\n",
       "time                           \n",
       "2021-01-01    23.5    20.787363\n",
       "2021-01-02    24.7    24.148192\n",
       "2021-01-03    25.2    25.612739\n",
       "2021-01-04    26.3    25.061407\n",
       "2021-01-05    28.1    26.324683\n",
       "...            ...          ...\n",
       "2022-07-20    33.1    33.316543\n",
       "2022-07-21    31.1    32.690832\n",
       "2022-07-22    34.7    31.604314\n",
       "2022-07-23    34.7    35.018271\n",
       "2022-07-24    34.3    34.625930\n",
       "\n",
       "[570 rows x 2 columns]"
      ]
     },
     "execution_count": 43,
     "metadata": {},
     "output_type": "execute_result"
    }
   ],
   "source": [
    "combined"
   ]
  },
  {
   "cell_type": "code",
   "execution_count": 44,
   "id": "7d574601",
   "metadata": {},
   "outputs": [
    {
     "data": {
      "text/plain": [
       "<AxesSubplot:xlabel='time'>"
      ]
     },
     "execution_count": 44,
     "metadata": {},
     "output_type": "execute_result"
    },
    {
     "data": {
      "image/png": "[encoded data removed]",
      "text/plain": [
       "<Figure size 640x480 with 1 Axes>"
      ]
     },
     "metadata": {},
     "output_type": "display_data"
    }
   ],
   "source": [
    "combined.plot()"
   ]
  },
  {
   "cell_type": "code",
   "execution_count": 45,
   "id": "ddd7f8e0",
   "metadata": {},
   "outputs": [
    {
     "data": {
      "text/plain": [
       "array([ 0.66093768, -0.16998697, -0.00707822,  0.4647997 ])"
      ]
     },
     "execution_count": 45,
     "metadata": {},
     "output_type": "execute_result"
    }
   ],
   "source": [
    "reg.coef_"
   ]
  },
  {
   "cell_type": "code",
   "execution_count": 46,
   "id": "7492bfdf",
   "metadata": {},
   "outputs": [],
   "source": [
    "def create_predictions(predictors, weather, reg):\n",
    "    train = weather.loc[:'2020-12-31' ]\n",
    "    test = weather.loc['2021-01-01' :]\n",
    "    reg.fit(train[predictiors], train['target'])\n",
    "    predictions = reg.predict(test[predictiors])\n",
    "    error = mean_absolute_error(test['target'], predictions)\n",
    "    combined = pd.concat([test['target'], pd.Series(predictions, index= test.index)], axis=1)\n",
    "    combined.columns= ['actual', 'predictions']\n",
    "    return error ,combined"
   ]
  },
  {
   "cell_type": "code",
   "execution_count": 47,
   "id": "b0467681",
   "metadata": {},
   "outputs": [],
   "source": [
    "weather['month_max'] = weather['Max_temp'].rolling(30).mean()"
   ]
  },
  {
   "cell_type": "code",
   "execution_count": 48,
   "id": "d95f106c",
   "metadata": {},
   "outputs": [
    {
     "data": {
      "text/html": [
       "<div>\n",
       "<style scoped>\n",
       "    .dataframe tbody tr th:only-of-type {\n",
       "        vertical-align: middle;\n",
       "    }\n",
       "\n",
       "    .dataframe tbody tr th {\n",
       "        vertical-align: top;\n",
       "    }\n",
       "\n",
       "    .dataframe thead th {\n",
       "        text-align: right;\n",
       "    }\n",
       "</style>\n",
       "<table border=\"1\" class=\"dataframe\">\n",
       "  <thead>\n",
       "    <tr style=\"text-align: right;\">\n",
       "      <th></th>\n",
       "      <th>Avg_temp</th>\n",
       "      <th>Min_temp</th>\n",
       "      <th>Max_temp</th>\n",
       "      <th>Precip</th>\n",
       "      <th>target</th>\n",
       "      <th>month_max</th>\n",
       "    </tr>\n",
       "    <tr>\n",
       "      <th>time</th>\n",
       "      <th></th>\n",
       "      <th></th>\n",
       "      <th></th>\n",
       "      <th></th>\n",
       "      <th></th>\n",
       "      <th></th>\n",
       "    </tr>\n",
       "  </thead>\n",
       "  <tbody>\n",
       "    <tr>\n",
       "      <th>1990-01-01</th>\n",
       "      <td>7.2</td>\n",
       "      <td>1.8</td>\n",
       "      <td>18.1</td>\n",
       "      <td>0.0</td>\n",
       "      <td>17.2</td>\n",
       "      <td>NaN</td>\n",
       "    </tr>\n",
       "    <tr>\n",
       "      <th>1990-01-02</th>\n",
       "      <td>10.5</td>\n",
       "      <td>1.8</td>\n",
       "      <td>17.2</td>\n",
       "      <td>0.0</td>\n",
       "      <td>18.6</td>\n",
       "      <td>NaN</td>\n",
       "    </tr>\n",
       "    <tr>\n",
       "      <th>1990-01-03</th>\n",
       "      <td>10.2</td>\n",
       "      <td>1.8</td>\n",
       "      <td>18.6</td>\n",
       "      <td>0.0</td>\n",
       "      <td>19.3</td>\n",
       "      <td>NaN</td>\n",
       "    </tr>\n",
       "    <tr>\n",
       "      <th>1990-01-04</th>\n",
       "      <td>9.1</td>\n",
       "      <td>1.8</td>\n",
       "      <td>19.3</td>\n",
       "      <td>0.0</td>\n",
       "      <td>23.8</td>\n",
       "      <td>NaN</td>\n",
       "    </tr>\n",
       "    <tr>\n",
       "      <th>1990-01-05</th>\n",
       "      <td>13.5</td>\n",
       "      <td>1.8</td>\n",
       "      <td>23.8</td>\n",
       "      <td>0.0</td>\n",
       "      <td>21.4</td>\n",
       "      <td>NaN</td>\n",
       "    </tr>\n",
       "    <tr>\n",
       "      <th>...</th>\n",
       "      <td>...</td>\n",
       "      <td>...</td>\n",
       "      <td>...</td>\n",
       "      <td>...</td>\n",
       "      <td>...</td>\n",
       "      <td>...</td>\n",
       "    </tr>\n",
       "    <tr>\n",
       "      <th>2022-07-20</th>\n",
       "      <td>28.6</td>\n",
       "      <td>25.1</td>\n",
       "      <td>33.1</td>\n",
       "      <td>17.7</td>\n",
       "      <td>33.1</td>\n",
       "      <td>37.110000</td>\n",
       "    </tr>\n",
       "    <tr>\n",
       "      <th>2022-07-21</th>\n",
       "      <td>27.4</td>\n",
       "      <td>25.1</td>\n",
       "      <td>33.1</td>\n",
       "      <td>27.3</td>\n",
       "      <td>31.1</td>\n",
       "      <td>37.010000</td>\n",
       "    </tr>\n",
       "    <tr>\n",
       "      <th>2022-07-22</th>\n",
       "      <td>28.1</td>\n",
       "      <td>26.1</td>\n",
       "      <td>31.1</td>\n",
       "      <td>16.0</td>\n",
       "      <td>34.7</td>\n",
       "      <td>36.776667</td>\n",
       "    </tr>\n",
       "    <tr>\n",
       "      <th>2022-07-23</th>\n",
       "      <td>30.3</td>\n",
       "      <td>26.2</td>\n",
       "      <td>34.7</td>\n",
       "      <td>11.9</td>\n",
       "      <td>34.7</td>\n",
       "      <td>36.696667</td>\n",
       "    </tr>\n",
       "    <tr>\n",
       "      <th>2022-07-24</th>\n",
       "      <td>30.0</td>\n",
       "      <td>28.1</td>\n",
       "      <td>34.7</td>\n",
       "      <td>2.0</td>\n",
       "      <td>34.3</td>\n",
       "      <td>36.550000</td>\n",
       "    </tr>\n",
       "  </tbody>\n",
       "</table>\n",
       "<p>11893 rows × 6 columns</p>\n",
       "</div>"
      ],
      "text/plain": [
       "            Avg_temp  Min_temp  Max_temp  Precip  target  month_max\n",
       "time                                                               \n",
       "1990-01-01       7.2       1.8      18.1     0.0    17.2        NaN\n",
       "1990-01-02      10.5       1.8      17.2     0.0    18.6        NaN\n",
       "1990-01-03      10.2       1.8      18.6     0.0    19.3        NaN\n",
       "1990-01-04       9.1       1.8      19.3     0.0    23.8        NaN\n",
       "1990-01-05      13.5       1.8      23.8     0.0    21.4        NaN\n",
       "...              ...       ...       ...     ...     ...        ...\n",
       "2022-07-20      28.6      25.1      33.1    17.7    33.1  37.110000\n",
       "2022-07-21      27.4      25.1      33.1    27.3    31.1  37.010000\n",
       "2022-07-22      28.1      26.1      31.1    16.0    34.7  36.776667\n",
       "2022-07-23      30.3      26.2      34.7    11.9    34.7  36.696667\n",
       "2022-07-24      30.0      28.1      34.7     2.0    34.3  36.550000\n",
       "\n",
       "[11893 rows x 6 columns]"
      ]
     },
     "execution_count": 48,
     "metadata": {},
     "output_type": "execute_result"
    }
   ],
   "source": [
    "weather"
   ]
  },
  {
   "cell_type": "code",
   "execution_count": 49,
   "id": "08c77e7c",
   "metadata": {},
   "outputs": [],
   "source": [
    "weather['month_day_max']= weather['month_max']/ weather['Max_temp']"
   ]
  },
  {
   "cell_type": "code",
   "execution_count": 50,
   "id": "42969c3b",
   "metadata": {},
   "outputs": [],
   "source": [
    "weather['max_min']= weather['Max_temp']/ weather['Min_temp']"
   ]
  },
  {
   "cell_type": "code",
   "execution_count": 51,
   "id": "1163bbf3",
   "metadata": {},
   "outputs": [],
   "source": [
    "predictiors = ['Max_temp', 'Min_temp', 'Precip', 'Avg_temp','month_max', 'month_day_max', 'max_min' ]"
   ]
  },
  {
   "cell_type": "code",
   "execution_count": null,
   "id": "22c0b009",
   "metadata": {},
   "outputs": [],
   "source": []
  },
  {
   "cell_type": "code",
   "execution_count": 52,
   "id": "d3df280a",
   "metadata": {},
   "outputs": [],
   "source": [
    "weather = weather.iloc[30:, :].copy()"
   ]
  },
  {
   "cell_type": "code",
   "execution_count": 53,
   "id": "e43959bb",
   "metadata": {},
   "outputs": [],
   "source": [
    "error , combined= create_predictions(predictiors, weather, reg)"
   ]
  },
  {
   "cell_type": "code",
   "execution_count": 54,
   "id": "ab4e8089",
   "metadata": {},
   "outputs": [
    {
     "data": {
      "text/plain": [
       "1.3170094827009171"
      ]
     },
     "execution_count": 54,
     "metadata": {},
     "output_type": "execute_result"
    }
   ],
   "source": [
    "error"
   ]
  },
  {
   "cell_type": "code",
   "execution_count": 55,
   "id": "f7719069",
   "metadata": {},
   "outputs": [
    {
     "data": {
      "text/plain": [
       "<AxesSubplot:xlabel='time'>"
      ]
     },
     "execution_count": 55,
     "metadata": {},
     "output_type": "execute_result"
    },
    {
     "data": {
      "image/png": "[encoded data removed]",
      "text/plain": [
       "<Figure size 640x480 with 1 Axes>"
      ]
     },
     "metadata": {},
     "output_type": "display_data"
    }
   ],
   "source": [
    "combined.plot()"
   ]
  },
  {
   "cell_type": "code",
   "execution_count": 56,
   "id": "303595a4",
   "metadata": {},
   "outputs": [],
   "source": [
    "weather['monthly_avg'] = weather['Max_temp'].groupby(weather.index.month).apply(lambda x: x.expanding(1).mean())"
   ]
  },
  {
   "cell_type": "code",
   "execution_count": 57,
   "id": "baab9943",
   "metadata": {},
   "outputs": [
    {
     "data": {
      "text/html": [
       "<div>\n",
       "<style scoped>\n",
       "    .dataframe tbody tr th:only-of-type {\n",
       "        vertical-align: middle;\n",
       "    }\n",
       "\n",
       "    .dataframe tbody tr th {\n",
       "        vertical-align: top;\n",
       "    }\n",
       "\n",
       "    .dataframe thead th {\n",
       "        text-align: right;\n",
       "    }\n",
       "</style>\n",
       "<table border=\"1\" class=\"dataframe\">\n",
       "  <thead>\n",
       "    <tr style=\"text-align: right;\">\n",
       "      <th></th>\n",
       "      <th>Avg_temp</th>\n",
       "      <th>Min_temp</th>\n",
       "      <th>Max_temp</th>\n",
       "      <th>Precip</th>\n",
       "      <th>target</th>\n",
       "      <th>month_max</th>\n",
       "      <th>month_day_max</th>\n",
       "      <th>max_min</th>\n",
       "      <th>monthly_avg</th>\n",
       "    </tr>\n",
       "    <tr>\n",
       "      <th>time</th>\n",
       "      <th></th>\n",
       "      <th></th>\n",
       "      <th></th>\n",
       "      <th></th>\n",
       "      <th></th>\n",
       "      <th></th>\n",
       "      <th></th>\n",
       "      <th></th>\n",
       "      <th></th>\n",
       "    </tr>\n",
       "  </thead>\n",
       "  <tbody>\n",
       "    <tr>\n",
       "      <th>1990-01-31</th>\n",
       "      <td>17.1</td>\n",
       "      <td>10.0</td>\n",
       "      <td>26.2</td>\n",
       "      <td>0.0</td>\n",
       "      <td>27.7</td>\n",
       "      <td>25.386667</td>\n",
       "      <td>0.968957</td>\n",
       "      <td>2.620000</td>\n",
       "      <td>26.200000</td>\n",
       "    </tr>\n",
       "    <tr>\n",
       "      <th>1990-02-01</th>\n",
       "      <td>17.5</td>\n",
       "      <td>10.0</td>\n",
       "      <td>27.7</td>\n",
       "      <td>0.0</td>\n",
       "      <td>27.7</td>\n",
       "      <td>25.736667</td>\n",
       "      <td>0.929122</td>\n",
       "      <td>2.770000</td>\n",
       "      <td>27.700000</td>\n",
       "    </tr>\n",
       "    <tr>\n",
       "      <th>1990-02-02</th>\n",
       "      <td>15.2</td>\n",
       "      <td>10.0</td>\n",
       "      <td>27.7</td>\n",
       "      <td>0.0</td>\n",
       "      <td>27.7</td>\n",
       "      <td>26.040000</td>\n",
       "      <td>0.940072</td>\n",
       "      <td>2.770000</td>\n",
       "      <td>27.700000</td>\n",
       "    </tr>\n",
       "    <tr>\n",
       "      <th>1990-02-03</th>\n",
       "      <td>15.2</td>\n",
       "      <td>10.0</td>\n",
       "      <td>27.7</td>\n",
       "      <td>0.0</td>\n",
       "      <td>24.6</td>\n",
       "      <td>26.320000</td>\n",
       "      <td>0.950181</td>\n",
       "      <td>2.770000</td>\n",
       "      <td>27.700000</td>\n",
       "    </tr>\n",
       "    <tr>\n",
       "      <th>1990-02-04</th>\n",
       "      <td>17.4</td>\n",
       "      <td>10.0</td>\n",
       "      <td>24.6</td>\n",
       "      <td>0.0</td>\n",
       "      <td>24.6</td>\n",
       "      <td>26.346667</td>\n",
       "      <td>1.071003</td>\n",
       "      <td>2.460000</td>\n",
       "      <td>26.925000</td>\n",
       "    </tr>\n",
       "    <tr>\n",
       "      <th>...</th>\n",
       "      <td>...</td>\n",
       "      <td>...</td>\n",
       "      <td>...</td>\n",
       "      <td>...</td>\n",
       "      <td>...</td>\n",
       "      <td>...</td>\n",
       "      <td>...</td>\n",
       "      <td>...</td>\n",
       "      <td>...</td>\n",
       "    </tr>\n",
       "    <tr>\n",
       "      <th>2022-07-20</th>\n",
       "      <td>28.6</td>\n",
       "      <td>25.1</td>\n",
       "      <td>33.1</td>\n",
       "      <td>17.7</td>\n",
       "      <td>33.1</td>\n",
       "      <td>37.110000</td>\n",
       "      <td>1.121148</td>\n",
       "      <td>1.318725</td>\n",
       "      <td>35.189625</td>\n",
       "    </tr>\n",
       "    <tr>\n",
       "      <th>2022-07-21</th>\n",
       "      <td>27.4</td>\n",
       "      <td>25.1</td>\n",
       "      <td>33.1</td>\n",
       "      <td>27.3</td>\n",
       "      <td>31.1</td>\n",
       "      <td>37.010000</td>\n",
       "      <td>1.118127</td>\n",
       "      <td>1.318725</td>\n",
       "      <td>35.187562</td>\n",
       "    </tr>\n",
       "    <tr>\n",
       "      <th>2022-07-22</th>\n",
       "      <td>28.1</td>\n",
       "      <td>26.1</td>\n",
       "      <td>31.1</td>\n",
       "      <td>16.0</td>\n",
       "      <td>34.7</td>\n",
       "      <td>36.776667</td>\n",
       "      <td>1.182529</td>\n",
       "      <td>1.191571</td>\n",
       "      <td>35.183531</td>\n",
       "    </tr>\n",
       "    <tr>\n",
       "      <th>2022-07-23</th>\n",
       "      <td>30.3</td>\n",
       "      <td>26.2</td>\n",
       "      <td>34.7</td>\n",
       "      <td>11.9</td>\n",
       "      <td>34.7</td>\n",
       "      <td>36.696667</td>\n",
       "      <td>1.057541</td>\n",
       "      <td>1.324427</td>\n",
       "      <td>35.183054</td>\n",
       "    </tr>\n",
       "    <tr>\n",
       "      <th>2022-07-24</th>\n",
       "      <td>30.0</td>\n",
       "      <td>28.1</td>\n",
       "      <td>34.7</td>\n",
       "      <td>2.0</td>\n",
       "      <td>34.3</td>\n",
       "      <td>36.550000</td>\n",
       "      <td>1.053314</td>\n",
       "      <td>1.234875</td>\n",
       "      <td>35.182579</td>\n",
       "    </tr>\n",
       "  </tbody>\n",
       "</table>\n",
       "<p>11863 rows × 9 columns</p>\n",
       "</div>"
      ],
      "text/plain": [
       "            Avg_temp  Min_temp  Max_temp  Precip  target  month_max  \\\n",
       "time                                                                  \n",
       "1990-01-31      17.1      10.0      26.2     0.0    27.7  25.386667   \n",
       "1990-02-01      17.5      10.0      27.7     0.0    27.7  25.736667   \n",
       "1990-02-02      15.2      10.0      27.7     0.0    27.7  26.040000   \n",
       "1990-02-03      15.2      10.0      27.7     0.0    24.6  26.320000   \n",
       "1990-02-04      17.4      10.0      24.6     0.0    24.6  26.346667   \n",
       "...              ...       ...       ...     ...     ...        ...   \n",
       "2022-07-20      28.6      25.1      33.1    17.7    33.1  37.110000   \n",
       "2022-07-21      27.4      25.1      33.1    27.3    31.1  37.010000   \n",
       "2022-07-22      28.1      26.1      31.1    16.0    34.7  36.776667   \n",
       "2022-07-23      30.3      26.2      34.7    11.9    34.7  36.696667   \n",
       "2022-07-24      30.0      28.1      34.7     2.0    34.3  36.550000   \n",
       "\n",
       "            month_day_max   max_min  monthly_avg  \n",
       "time                                              \n",
       "1990-01-31       0.968957  2.620000    26.200000  \n",
       "1990-02-01       0.929122  2.770000    27.700000  \n",
       "1990-02-02       0.940072  2.770000    27.700000  \n",
       "1990-02-03       0.950181  2.770000    27.700000  \n",
       "1990-02-04       1.071003  2.460000    26.925000  \n",
       "...                   ...       ...          ...  \n",
       "2022-07-20       1.121148  1.318725    35.189625  \n",
       "2022-07-21       1.118127  1.318725    35.187562  \n",
       "2022-07-22       1.182529  1.191571    35.183531  \n",
       "2022-07-23       1.057541  1.324427    35.183054  \n",
       "2022-07-24       1.053314  1.234875    35.182579  \n",
       "\n",
       "[11863 rows x 9 columns]"
      ]
     },
     "execution_count": 57,
     "metadata": {},
     "output_type": "execute_result"
    }
   ],
   "source": [
    "weather"
   ]
  },
  {
   "cell_type": "code",
   "execution_count": 58,
   "id": "cca11daa",
   "metadata": {},
   "outputs": [],
   "source": [
    "weather['day_of_year_avg'] = weather['Max_temp'].groupby(weather.index.day_of_year).apply(lambda x:x.expanding(1).mean())"
   ]
  },
  {
   "cell_type": "code",
   "execution_count": 59,
   "id": "ea8d450e",
   "metadata": {},
   "outputs": [],
   "source": [
    "predictiors = ['Max_temp', 'Min_temp', 'Precip', 'Avg_temp','month_max', 'month_day_max', 'max_min', 'day_of_year_avg', 'monthly_avg' ]"
   ]
  },
  {
   "cell_type": "code",
   "execution_count": 60,
   "id": "2b20b044",
   "metadata": {},
   "outputs": [],
   "source": [
    "error , combined= create_predictions(predictiors, weather, reg)"
   ]
  },
  {
   "cell_type": "code",
   "execution_count": 61,
   "id": "e979ca1c",
   "metadata": {},
   "outputs": [
    {
     "data": {
      "text/plain": [
       "1.275039977274745"
      ]
     },
     "execution_count": 61,
     "metadata": {},
     "output_type": "execute_result"
    }
   ],
   "source": [
    "error"
   ]
  },
  {
   "cell_type": "code",
   "execution_count": 62,
   "id": "6ce2dd8d",
   "metadata": {},
   "outputs": [
    {
     "data": {
      "text/plain": [
       "<AxesSubplot:xlabel='time'>"
      ]
     },
     "execution_count": 62,
     "metadata": {},
     "output_type": "execute_result"
    },
    {
     "data": {
      "image/png": "[encoded data removed]",
      "text/plain": [
       "<Figure size 640x480 with 1 Axes>"
      ]
     },
     "metadata": {},
     "output_type": "display_data"
    }
   ],
   "source": [
    "combined.plot()"
   ]
  },
  {
   "cell_type": "code",
   "execution_count": 63,
   "id": "fb10dc45",
   "metadata": {},
   "outputs": [
    {
     "data": {
      "text/plain": [
       "array([ 0.56478337, -0.18564581, -0.01205074,  0.43200337,  0.02792889,\n",
       "       -0.78697398, -0.01935645,  0.0820804 ,  0.05666656])"
      ]
     },
     "execution_count": 63,
     "metadata": {},
     "output_type": "execute_result"
    }
   ],
   "source": [
    "reg.coef_"
   ]
  },
  {
   "cell_type": "code",
   "execution_count": 64,
   "id": "70d6153f",
   "metadata": {},
   "outputs": [
    {
     "data": {
      "text/plain": [
       "Avg_temp           0.938373\n",
       "Min_temp           0.809678\n",
       "Max_temp           0.969498\n",
       "Precip            -0.008940\n",
       "target             1.000000\n",
       "month_max          0.873826\n",
       "month_day_max     -0.377103\n",
       "max_min           -0.242340\n",
       "monthly_avg        0.898800\n",
       "day_of_year_avg    0.924398\n",
       "Name: target, dtype: float64"
      ]
     },
     "execution_count": 64,
     "metadata": {},
     "output_type": "execute_result"
    }
   ],
   "source": [
    "weather.corr()['target'] # -ve is showing they are not much useful to predict weather \n",
    "# correlation"
   ]
  },
  {
   "cell_type": "code",
   "execution_count": 65,
   "id": "01789386",
   "metadata": {},
   "outputs": [],
   "source": [
    "combined['diff'] = (combined['actual']- combined['predictions'].abs())"
   ]
  },
  {
   "cell_type": "code",
   "execution_count": 66,
   "id": "e6db1c65",
   "metadata": {},
   "outputs": [
    {
     "data": {
      "text/html": [
       "<div>\n",
       "<style scoped>\n",
       "    .dataframe tbody tr th:only-of-type {\n",
       "        vertical-align: middle;\n",
       "    }\n",
       "\n",
       "    .dataframe tbody tr th {\n",
       "        vertical-align: top;\n",
       "    }\n",
       "\n",
       "    .dataframe thead th {\n",
       "        text-align: right;\n",
       "    }\n",
       "</style>\n",
       "<table border=\"1\" class=\"dataframe\">\n",
       "  <thead>\n",
       "    <tr style=\"text-align: right;\">\n",
       "      <th></th>\n",
       "      <th>actual</th>\n",
       "      <th>predictions</th>\n",
       "      <th>diff</th>\n",
       "    </tr>\n",
       "    <tr>\n",
       "      <th>time</th>\n",
       "      <th></th>\n",
       "      <th></th>\n",
       "      <th></th>\n",
       "    </tr>\n",
       "  </thead>\n",
       "  <tbody>\n",
       "    <tr>\n",
       "      <th>2021-05-29</th>\n",
       "      <td>34.7</td>\n",
       "      <td>30.199667</td>\n",
       "      <td>4.500333</td>\n",
       "    </tr>\n",
       "    <tr>\n",
       "      <th>2021-09-17</th>\n",
       "      <td>34.1</td>\n",
       "      <td>30.040128</td>\n",
       "      <td>4.059872</td>\n",
       "    </tr>\n",
       "    <tr>\n",
       "      <th>2021-09-25</th>\n",
       "      <td>34.1</td>\n",
       "      <td>30.051374</td>\n",
       "      <td>4.048626</td>\n",
       "    </tr>\n",
       "    <tr>\n",
       "      <th>2021-05-03</th>\n",
       "      <td>39.1</td>\n",
       "      <td>35.430930</td>\n",
       "      <td>3.669070</td>\n",
       "    </tr>\n",
       "    <tr>\n",
       "      <th>2021-01-01</th>\n",
       "      <td>23.5</td>\n",
       "      <td>20.241975</td>\n",
       "      <td>3.258025</td>\n",
       "    </tr>\n",
       "  </tbody>\n",
       "</table>\n",
       "</div>"
      ],
      "text/plain": [
       "            actual  predictions      diff\n",
       "time                                     \n",
       "2021-05-29    34.7    30.199667  4.500333\n",
       "2021-09-17    34.1    30.040128  4.059872\n",
       "2021-09-25    34.1    30.051374  4.048626\n",
       "2021-05-03    39.1    35.430930  3.669070\n",
       "2021-01-01    23.5    20.241975  3.258025"
      ]
     },
     "execution_count": 66,
     "metadata": {},
     "output_type": "execute_result"
    }
   ],
   "source": [
    "combined.sort_values('diff', ascending= False).head()"
   ]
  },
  {
   "cell_type": "code",
   "execution_count": null,
   "id": "5847a7ca",
   "metadata": {},
   "outputs": [],
   "source": []
  },
  {
   "cell_type": "code",
   "execution_count": null,
   "id": "d2122728",
   "metadata": {},
   "outputs": [],
   "source": []
  }
 ],
 "metadata": {
  "kernelspec": {
   "display_name": "Python 3 (ipykernel)",
   "language": "python",
   "name": "python3"
  },
  "language_info": {
   "codemirror_mode": {
    "name": "ipython",
    "version": 3
   },
   "file_extension": ".py",
   "mimetype": "text/x-python",
   "name": "python",
   "nbconvert_exporter": "python",
   "pygments_lexer": "ipython3",
   "version": "3.9.13"
  }
 },
 "nbformat": 4,
 "nbformat_minor": 5
}
